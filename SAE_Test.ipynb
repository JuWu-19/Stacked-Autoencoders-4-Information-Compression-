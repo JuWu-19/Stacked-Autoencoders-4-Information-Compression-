{
  "nbformat": 4,
  "nbformat_minor": 0,
  "metadata": {
    "colab": {
      "provenance": []
    },
    "kernelspec": {
      "name": "python3",
      "display_name": "Python 3"
    },
    "language_info": {
      "name": "python"
    }
  },
  "cells": [
    {
      "cell_type": "code",
      "execution_count": 2,
      "metadata": {
        "colab": {
          "base_uri": "https://localhost:8080/"
        },
        "id": "my74KfRCk70Y",
        "outputId": "c9825d3e-969f-4a25-ae78-abb607112e1b"
      },
      "outputs": [
        {
          "output_type": "stream",
          "name": "stdout",
          "text": [
            "Mounted at /content/drive\n"
          ]
        }
      ],
      "source": [
        "from google.colab import drive\n",
        "drive.mount('/content/drive')"
      ]
    },
    {
      "cell_type": "markdown",
      "source": [
        "load data"
      ],
      "metadata": {
        "id": "CXjmUZYArVAs"
      }
    },
    {
      "cell_type": "code",
      "source": [
        "import os\n",
        "import numpy as np\n",
        "import scipy.io\n",
        "\n",
        "data_list = []\n",
        "\n",
        "main_folder_path = '/content/drive/MyDrive/fSAE/'\n",
        "sub_folders = ['1', '2', '3', '4']\n",
        "\n",
        "folders = [os.path.join(main_folder_path, sub_folder) for sub_folder in sub_folders]\n",
        "\n",
        "\n",
        "for folder in folders:\n",
        "    for file in os.listdir(folder):\n",
        "        if file.endswith('.mat'):\n",
        "            mat_data = scipy.io.loadmat(os.path.join(folder, file))\n",
        "            # Assuming the key in the .mat file is 'data_key'\n",
        "            data_vector = mat_data['Y']\n",
        "            # Flatten the vector before appending\n",
        "            data_list.append(data_vector.ravel())\n",
        "# Convert list to numpy array\n",
        "data_array = np.array(data_list)\n"
      ],
      "metadata": {
        "id": "U24Uz4pxp4DK"
      },
      "execution_count": 3,
      "outputs": []
    },
    {
      "cell_type": "code",
      "source": [
        "data_array.shape"
      ],
      "metadata": {
        "colab": {
          "base_uri": "https://localhost:8080/"
        },
        "id": "8T7SMVTb0Gvp",
        "outputId": "4663657a-f45c-4850-9cfb-997481ce184e"
      },
      "execution_count": 8,
      "outputs": [
        {
          "output_type": "execute_result",
          "data": {
            "text/plain": [
              "(1200, 10000)"
            ]
          },
          "metadata": {},
          "execution_count": 8
        }
      ]
    },
    {
      "cell_type": "code",
      "source": [
        "import os\n",
        "import scipy.io\n",
        "\n",
        "# Path to one of your .mat files for inspection\n",
        "sample_mat_file_path = os.path.join('/content/drive/MyDrive/fSAE/1', '1.mat')  # Replace 'sample_file.mat' with the name of one of your .mat files\n",
        "\n",
        "# Load the .mat file\n",
        "mat_data = scipy.io.loadmat(sample_mat_file_path)\n",
        "\n",
        "# Print the keys\n",
        "print(mat_data.keys())\n"
      ],
      "metadata": {
        "colab": {
          "base_uri": "https://localhost:8080/"
        },
        "id": "JQG206ymzsAE",
        "outputId": "01c82a5b-1589-4f7e-c561-595c102603af"
      },
      "execution_count": 4,
      "outputs": [
        {
          "output_type": "stream",
          "name": "stdout",
          "text": [
            "dict_keys(['__header__', '__version__', '__globals__', 'Y'])\n"
          ]
        }
      ]
    },
    {
      "cell_type": "markdown",
      "source": [
        "model definition, set the training configuration and train model, model compilation, Model Evaluation and visualization"
      ],
      "metadata": {
        "id": "M46WIRjpwmYf"
      }
    },
    {
      "cell_type": "code",
      "source": [
        "from keras.layers import Input, Dense, LeakyReLU, BatchNormalization, Dropout\n",
        "from keras.models import Model\n",
        "from keras.regularizers import l2\n",
        "\n",
        "input_dim = 10000\n",
        "encoding_dim = 200  # Compressed representation\n",
        "\n",
        "# Model Architecture with He Initialization\n",
        "input_data = Input(shape=(input_dim,))\n",
        "\n",
        "# Encoding layers with LeakyReLU and BatchNormalization\n",
        "encoded = Dense(8000, kernel_initializer='he_normal')(input_data)\n",
        "encoded = LeakyReLU(alpha=0.01)(encoded)\n",
        "encoded = BatchNormalization()(encoded)\n",
        "encoded = Dropout(0.5)(encoded)\n",
        "\n",
        "encoded = Dense(4000, kernel_initializer='he_normal')(encoded)\n",
        "encoded = LeakyReLU(alpha=0.01)(encoded)\n",
        "encoded = BatchNormalization()(encoded)\n",
        "encoded = Dropout(0.5)(encoded)\n",
        "\n",
        "encoded = Dense(1000, kernel_initializer='he_normal')(encoded)\n",
        "encoded = LeakyReLU(alpha=0.01)(encoded)\n",
        "encoded = BatchNormalization()(encoded)\n",
        "encoded = Dropout(0.5)(encoded)\n",
        "\n",
        "encoded = Dense(encoding_dim, kernel_initializer='he_normal')(encoded)\n",
        "encoded2 = LeakyReLU(alpha=0.01)(encoded)\n",
        "\n",
        "# Decoding layers with LeakyReLU and BatchNormalization\n",
        "decoded = Dense(1000, kernel_initializer='he_normal')(encoded2)\n",
        "decoded = LeakyReLU(alpha=0.01)(decoded)\n",
        "decoded = BatchNormalization()(decoded)\n",
        "decoded = Dropout(0.5)(decoded)\n",
        "\n",
        "decoded = Dense(4000, kernel_initializer='he_normal')(decoded)\n",
        "decoded = LeakyReLU(alpha=0.01)(decoded)\n",
        "decoded = BatchNormalization()(decoded)\n",
        "decoded = Dropout(0.5)(decoded)\n",
        "\n",
        "decoded = Dense(8000, kernel_initializer='he_normal')(decoded)\n",
        "decoded = LeakyReLU(alpha=0.01)(decoded)\n",
        "decoded = BatchNormalization()(decoded)\n",
        "decoded = Dropout(0.5)(decoded)\n",
        "\n",
        "decoded = Dense(input_dim, activation='linear')(decoded)\n",
        "\n",
        "\n",
        "# Create the autoencoder model\n",
        "autoencoder2 = Model(inputs=input_data, outputs=decoded)"
      ],
      "metadata": {
        "id": "a6AOeTDdSlHB"
      },
      "execution_count": 5,
      "outputs": []
    },
    {
      "cell_type": "code",
      "source": [
        "from keras.initializers import he_normal\n",
        "from sklearn.preprocessing import MinMaxScaler\n",
        "from keras.optimizers import Adam\n",
        "\n",
        "optimizer2 = Adam(learning_rate=1e-3)  # You can adjust the learning rate here\n",
        "autoencoder2.compile(optimizer=optimizer2, loss='mean_squared_error')"
      ],
      "metadata": {
        "id": "nQ2WZ33CTII-"
      },
      "execution_count": 6,
      "outputs": []
    },
    {
      "cell_type": "code",
      "source": [
        "from keras.callbacks import ReduceLROnPlateau\n",
        "# Define the ReduceLROnPlateau callback\n",
        "reduce_lr = ReduceLROnPlateau(monitor='val_loss',\n",
        "                              factor=0.1,\n",
        "                              patience=10,\n",
        "                              verbose=1,\n",
        "                              min_delta=1e-4,\n",
        "                              mode='min')"
      ],
      "metadata": {
        "id": "dHa9tErJfVXo"
      },
      "execution_count": 7,
      "outputs": []
    },
    {
      "cell_type": "markdown",
      "source": [
        "shuffle and split data sets"
      ],
      "metadata": {
        "id": "_G72wL-Qwfxj"
      }
    },
    {
      "cell_type": "code",
      "source": [
        "from sklearn.model_selection import train_test_split\n",
        "\n",
        "scaler = MinMaxScaler()\n",
        "data_scaled = scaler.fit_transform(data_array)\n",
        "\n",
        "# Add small Gaussian noise\n",
        "noise_factor = 0.0005  # Adjust this value based on your requirements\n",
        "data_noisy = data_scaled + noise_factor * np.random.normal(loc=0.0, scale=1.0, size=data_scaled.shape)\n",
        "\n",
        "# Ensure the noisy data is still between 0 and 1\n",
        "data_noisy = np.clip(data_noisy, 0., 1.)\n",
        "\n",
        "# Split both the noisy data and the original scaled data\n",
        "x_train_noisy, x_val_noisy, x_train, x_val = train_test_split(data_noisy, data_scaled, test_size=0.3, random_state=42)"
      ],
      "metadata": {
        "id": "eIhOeGWGwiL5"
      },
      "execution_count": 8,
      "outputs": []
    },
    {
      "cell_type": "code",
      "source": [
        "history2= autoencoder2.fit(x_train_noisy, x_train,\n",
        "                          epochs=100,\n",
        "                          batch_size=256,\n",
        "                          shuffle=True,\n",
        "                          validation_data=(x_val_noisy, x_val),\n",
        "                          callbacks=[reduce_lr])"
      ],
      "metadata": {
        "colab": {
          "base_uri": "https://localhost:8080/"
        },
        "id": "8xDfwPaxTT8J",
        "outputId": "749c8d90-6293-45cd-ffef-4041469c60d2"
      },
      "execution_count": 9,
      "outputs": [
        {
          "output_type": "stream",
          "name": "stdout",
          "text": [
            "Epoch 1/100\n",
            "4/4 [==============================] - 45s 9s/step - loss: 1.7946 - val_loss: 99.1633 - lr: 0.0010\n",
            "Epoch 2/100\n",
            "4/4 [==============================] - 40s 10s/step - loss: 1.6558 - val_loss: 1045.8032 - lr: 0.0010\n",
            "Epoch 3/100\n",
            "4/4 [==============================] - 41s 11s/step - loss: 1.5373 - val_loss: 3304.5527 - lr: 0.0010\n",
            "Epoch 4/100\n",
            "4/4 [==============================] - 37s 9s/step - loss: 1.4308 - val_loss: 6466.3926 - lr: 0.0010\n",
            "Epoch 5/100\n",
            "4/4 [==============================] - 38s 9s/step - loss: 1.3441 - val_loss: 8807.3447 - lr: 0.0010\n",
            "Epoch 6/100\n",
            "4/4 [==============================] - 40s 10s/step - loss: 1.2555 - val_loss: 10387.6191 - lr: 0.0010\n",
            "Epoch 7/100\n",
            "4/4 [==============================] - 38s 10s/step - loss: 1.1619 - val_loss: 11735.4023 - lr: 0.0010\n",
            "Epoch 8/100\n",
            "4/4 [==============================] - 42s 10s/step - loss: 1.0941 - val_loss: 9561.3906 - lr: 0.0010\n",
            "Epoch 9/100\n",
            "4/4 [==============================] - 45s 11s/step - loss: 1.0192 - val_loss: 9124.5283 - lr: 0.0010\n",
            "Epoch 10/100\n",
            "4/4 [==============================] - 39s 9s/step - loss: 0.9917 - val_loss: 4428.1484 - lr: 0.0010\n",
            "Epoch 11/100\n",
            "4/4 [==============================] - ETA: 0s - loss: 0.9320 \n",
            "Epoch 11: ReduceLROnPlateau reducing learning rate to 0.00010000000474974513.\n",
            "4/4 [==============================] - 40s 10s/step - loss: 0.9320 - val_loss: 3274.4846 - lr: 0.0010\n",
            "Epoch 12/100\n",
            "4/4 [==============================] - 38s 9s/step - loss: 0.8840 - val_loss: 387.1938 - lr: 1.0000e-04\n",
            "Epoch 13/100\n",
            "4/4 [==============================] - 40s 10s/step - loss: 0.7022 - val_loss: 278.7401 - lr: 1.0000e-04\n",
            "Epoch 14/100\n",
            "4/4 [==============================] - 40s 10s/step - loss: 0.7533 - val_loss: 171.7444 - lr: 1.0000e-04\n",
            "Epoch 15/100\n",
            "4/4 [==============================] - 41s 10s/step - loss: 0.7023 - val_loss: 51.3768 - lr: 1.0000e-04\n",
            "Epoch 16/100\n",
            "4/4 [==============================] - 38s 10s/step - loss: 0.6871 - val_loss: 45.4555 - lr: 1.0000e-04\n",
            "Epoch 17/100\n",
            "4/4 [==============================] - 40s 10s/step - loss: 0.6819 - val_loss: 18.8213 - lr: 1.0000e-04\n",
            "Epoch 18/100\n",
            "4/4 [==============================] - 40s 10s/step - loss: 0.6658 - val_loss: 15.9801 - lr: 1.0000e-04\n",
            "Epoch 19/100\n",
            "4/4 [==============================] - 40s 10s/step - loss: 0.6625 - val_loss: 10.5290 - lr: 1.0000e-04\n",
            "Epoch 20/100\n",
            "4/4 [==============================] - 38s 10s/step - loss: 0.6556 - val_loss: 6.6252 - lr: 1.0000e-04\n",
            "Epoch 21/100\n",
            "4/4 [==============================] - 40s 10s/step - loss: 0.6490 - val_loss: 5.3700 - lr: 1.0000e-04\n",
            "Epoch 22/100\n",
            "4/4 [==============================] - 43s 11s/step - loss: 0.6438 - val_loss: 4.1668 - lr: 1.0000e-04\n",
            "Epoch 23/100\n",
            "4/4 [==============================] - 40s 10s/step - loss: 0.6401 - val_loss: 3.2612 - lr: 1.0000e-04\n",
            "Epoch 24/100\n",
            "4/4 [==============================] - 41s 10s/step - loss: 0.6361 - val_loss: 2.5855 - lr: 1.0000e-04\n",
            "Epoch 25/100\n",
            "4/4 [==============================] - 38s 10s/step - loss: 0.6316 - val_loss: 2.1565 - lr: 1.0000e-04\n",
            "Epoch 26/100\n",
            "4/4 [==============================] - 40s 10s/step - loss: 0.6296 - val_loss: 1.6902 - lr: 1.0000e-04\n",
            "Epoch 27/100\n",
            "4/4 [==============================] - 40s 10s/step - loss: 0.6259 - val_loss: 1.3222 - lr: 1.0000e-04\n",
            "Epoch 28/100\n",
            "4/4 [==============================] - 41s 10s/step - loss: 0.6211 - val_loss: 1.1702 - lr: 1.0000e-04\n",
            "Epoch 29/100\n",
            "4/4 [==============================] - 38s 10s/step - loss: 0.6158 - val_loss: 0.9702 - lr: 1.0000e-04\n",
            "Epoch 30/100\n",
            "4/4 [==============================] - 40s 10s/step - loss: 0.6135 - val_loss: 0.8465 - lr: 1.0000e-04\n",
            "Epoch 31/100\n",
            "4/4 [==============================] - 40s 10s/step - loss: 0.6090 - val_loss: 0.6908 - lr: 1.0000e-04\n",
            "Epoch 32/100\n",
            "4/4 [==============================] - 40s 10s/step - loss: 0.6069 - val_loss: 0.6916 - lr: 1.0000e-04\n",
            "Epoch 33/100\n",
            "4/4 [==============================] - 38s 10s/step - loss: 0.6053 - val_loss: 0.4909 - lr: 1.0000e-04\n",
            "Epoch 34/100\n",
            "4/4 [==============================] - 40s 10s/step - loss: 0.5998 - val_loss: 0.4647 - lr: 1.0000e-04\n",
            "Epoch 35/100\n",
            "4/4 [==============================] - 40s 10s/step - loss: 0.5999 - val_loss: 0.3993 - lr: 1.0000e-04\n",
            "Epoch 36/100\n",
            "4/4 [==============================] - 41s 10s/step - loss: 0.5934 - val_loss: 0.3315 - lr: 1.0000e-04\n",
            "Epoch 37/100\n",
            "4/4 [==============================] - 39s 10s/step - loss: 0.5898 - val_loss: 0.2737 - lr: 1.0000e-04\n",
            "Epoch 38/100\n",
            "4/4 [==============================] - 40s 10s/step - loss: 0.5866 - val_loss: 0.2457 - lr: 1.0000e-04\n",
            "Epoch 39/100\n",
            "4/4 [==============================] - 40s 10s/step - loss: 0.5850 - val_loss: 0.2576 - lr: 1.0000e-04\n",
            "Epoch 40/100\n",
            "4/4 [==============================] - 40s 10s/step - loss: 0.5811 - val_loss: 0.2192 - lr: 1.0000e-04\n",
            "Epoch 41/100\n",
            "4/4 [==============================] - 41s 11s/step - loss: 0.5791 - val_loss: 0.1927 - lr: 1.0000e-04\n",
            "Epoch 42/100\n",
            "4/4 [==============================] - 39s 10s/step - loss: 0.5769 - val_loss: 0.1862 - lr: 1.0000e-04\n",
            "Epoch 43/100\n",
            "4/4 [==============================] - 40s 10s/step - loss: 0.5743 - val_loss: 0.1578 - lr: 1.0000e-04\n",
            "Epoch 44/100\n",
            "4/4 [==============================] - 40s 10s/step - loss: 0.5706 - val_loss: 0.1450 - lr: 1.0000e-04\n",
            "Epoch 45/100\n",
            "4/4 [==============================] - 41s 10s/step - loss: 0.5668 - val_loss: 0.1252 - lr: 1.0000e-04\n",
            "Epoch 46/100\n",
            "4/4 [==============================] - 39s 10s/step - loss: 0.5631 - val_loss: 0.1205 - lr: 1.0000e-04\n",
            "Epoch 47/100\n",
            "4/4 [==============================] - 40s 10s/step - loss: 0.5594 - val_loss: 0.1060 - lr: 1.0000e-04\n",
            "Epoch 48/100\n",
            "4/4 [==============================] - 40s 10s/step - loss: 0.5587 - val_loss: 0.0957 - lr: 1.0000e-04\n",
            "Epoch 49/100\n",
            "4/4 [==============================] - 41s 10s/step - loss: 0.5553 - val_loss: 0.0939 - lr: 1.0000e-04\n",
            "Epoch 50/100\n",
            "4/4 [==============================] - 38s 10s/step - loss: 0.5530 - val_loss: 0.0856 - lr: 1.0000e-04\n",
            "Epoch 51/100\n",
            "4/4 [==============================] - 40s 10s/step - loss: 0.5484 - val_loss: 0.0778 - lr: 1.0000e-04\n",
            "Epoch 52/100\n",
            "4/4 [==============================] - 40s 10s/step - loss: 0.5485 - val_loss: 0.0777 - lr: 1.0000e-04\n",
            "Epoch 53/100\n",
            "4/4 [==============================] - 40s 10s/step - loss: 0.5472 - val_loss: 0.0757 - lr: 1.0000e-04\n",
            "Epoch 54/100\n",
            "4/4 [==============================] - 38s 10s/step - loss: 0.5415 - val_loss: 0.0683 - lr: 1.0000e-04\n",
            "Epoch 55/100\n",
            "4/4 [==============================] - 40s 10s/step - loss: 0.5423 - val_loss: 0.0649 - lr: 1.0000e-04\n",
            "Epoch 56/100\n",
            "4/4 [==============================] - 40s 10s/step - loss: 0.5359 - val_loss: 0.0639 - lr: 1.0000e-04\n",
            "Epoch 57/100\n",
            "4/4 [==============================] - 41s 10s/step - loss: 0.5335 - val_loss: 0.0602 - lr: 1.0000e-04\n",
            "Epoch 58/100\n",
            "4/4 [==============================] - 38s 10s/step - loss: 0.5330 - val_loss: 0.0586 - lr: 1.0000e-04\n",
            "Epoch 59/100\n",
            "4/4 [==============================] - 39s 9s/step - loss: 0.5292 - val_loss: 0.0549 - lr: 1.0000e-04\n",
            "Epoch 60/100\n",
            "4/4 [==============================] - 40s 10s/step - loss: 0.5273 - val_loss: 0.0516 - lr: 1.0000e-04\n",
            "Epoch 61/100\n",
            "4/4 [==============================] - 41s 10s/step - loss: 0.5245 - val_loss: 0.0501 - lr: 1.0000e-04\n",
            "Epoch 62/100\n",
            "4/4 [==============================] - 40s 10s/step - loss: 0.5227 - val_loss: 0.0495 - lr: 1.0000e-04\n",
            "Epoch 63/100\n",
            "4/4 [==============================] - 39s 10s/step - loss: 0.5195 - val_loss: 0.0466 - lr: 1.0000e-04\n",
            "Epoch 64/100\n",
            "4/4 [==============================] - 42s 10s/step - loss: 0.5168 - val_loss: 0.0455 - lr: 1.0000e-04\n",
            "Epoch 65/100\n",
            "4/4 [==============================] - 39s 9s/step - loss: 0.5131 - val_loss: 0.0445 - lr: 1.0000e-04\n",
            "Epoch 66/100\n",
            "4/4 [==============================] - 40s 10s/step - loss: 0.5143 - val_loss: 0.0435 - lr: 1.0000e-04\n",
            "Epoch 67/100\n",
            "4/4 [==============================] - 38s 10s/step - loss: 0.5089 - val_loss: 0.0419 - lr: 1.0000e-04\n",
            "Epoch 68/100\n",
            "4/4 [==============================] - 40s 10s/step - loss: 0.5079 - val_loss: 0.0402 - lr: 1.0000e-04\n",
            "Epoch 69/100\n",
            "4/4 [==============================] - 40s 10s/step - loss: 0.5016 - val_loss: 0.0394 - lr: 1.0000e-04\n",
            "Epoch 70/100\n",
            "4/4 [==============================] - 40s 10s/step - loss: 0.5027 - val_loss: 0.0379 - lr: 1.0000e-04\n",
            "Epoch 71/100\n",
            "4/4 [==============================] - 38s 10s/step - loss: 0.4999 - val_loss: 0.0381 - lr: 1.0000e-04\n",
            "Epoch 72/100\n",
            "4/4 [==============================] - 40s 10s/step - loss: 0.4981 - val_loss: 0.0381 - lr: 1.0000e-04\n",
            "Epoch 73/100\n",
            "4/4 [==============================] - 40s 10s/step - loss: 0.4961 - val_loss: 0.0365 - lr: 1.0000e-04\n",
            "Epoch 74/100\n",
            "4/4 [==============================] - 40s 10s/step - loss: 0.4945 - val_loss: 0.0368 - lr: 1.0000e-04\n",
            "Epoch 75/100\n",
            "4/4 [==============================] - 38s 10s/step - loss: 0.4921 - val_loss: 0.0353 - lr: 1.0000e-04\n",
            "Epoch 76/100\n",
            "4/4 [==============================] - 40s 10s/step - loss: 0.4901 - val_loss: 0.0350 - lr: 1.0000e-04\n",
            "Epoch 77/100\n",
            "4/4 [==============================] - 40s 10s/step - loss: 0.4872 - val_loss: 0.0351 - lr: 1.0000e-04\n",
            "Epoch 78/100\n",
            "4/4 [==============================] - 41s 10s/step - loss: 0.4848 - val_loss: 0.0326 - lr: 1.0000e-04\n",
            "Epoch 79/100\n",
            "4/4 [==============================] - 38s 10s/step - loss: 0.4813 - val_loss: 0.0331 - lr: 1.0000e-04\n",
            "Epoch 80/100\n",
            "4/4 [==============================] - 40s 10s/step - loss: 0.4795 - val_loss: 0.0324 - lr: 1.0000e-04\n",
            "Epoch 81/100\n",
            "4/4 [==============================] - 40s 10s/step - loss: 0.4770 - val_loss: 0.0313 - lr: 1.0000e-04\n",
            "Epoch 82/100\n",
            "4/4 [==============================] - 41s 10s/step - loss: 0.4741 - val_loss: 0.0322 - lr: 1.0000e-04\n",
            "Epoch 83/100\n",
            "4/4 [==============================] - 41s 10s/step - loss: 0.4738 - val_loss: 0.0315 - lr: 1.0000e-04\n",
            "Epoch 84/100\n",
            "4/4 [==============================] - 38s 10s/step - loss: 0.4724 - val_loss: 0.0310 - lr: 1.0000e-04\n",
            "Epoch 85/100\n",
            "4/4 [==============================] - 40s 10s/step - loss: 0.4690 - val_loss: 0.0308 - lr: 1.0000e-04\n",
            "Epoch 86/100\n",
            "4/4 [==============================] - 40s 10s/step - loss: 0.4675 - val_loss: 0.0311 - lr: 1.0000e-04\n",
            "Epoch 87/100\n",
            "4/4 [==============================] - 41s 10s/step - loss: 0.4655 - val_loss: 0.0310 - lr: 1.0000e-04\n",
            "Epoch 88/100\n",
            "4/4 [==============================] - 40s 10s/step - loss: 0.4657 - val_loss: 0.0314 - lr: 1.0000e-04\n",
            "Epoch 89/100\n",
            "4/4 [==============================] - 39s 9s/step - loss: 0.4608 - val_loss: 0.0304 - lr: 1.0000e-04\n",
            "Epoch 90/100\n",
            "4/4 [==============================] - 40s 10s/step - loss: 0.4594 - val_loss: 0.0295 - lr: 1.0000e-04\n",
            "Epoch 91/100\n",
            "4/4 [==============================] - 40s 10s/step - loss: 0.4562 - val_loss: 0.0291 - lr: 1.0000e-04\n",
            "Epoch 92/100\n",
            "4/4 [==============================] - 41s 11s/step - loss: 0.4526 - val_loss: 0.0281 - lr: 1.0000e-04\n",
            "Epoch 93/100\n",
            "4/4 [==============================] - 42s 11s/step - loss: 0.4504 - val_loss: 0.0286 - lr: 1.0000e-04\n",
            "Epoch 94/100\n",
            "4/4 [==============================] - 42s 11s/step - loss: 0.4482 - val_loss: 0.0277 - lr: 1.0000e-04\n",
            "Epoch 95/100\n",
            "4/4 [==============================] - 39s 10s/step - loss: 0.4477 - val_loss: 0.0280 - lr: 1.0000e-04\n",
            "Epoch 96/100\n",
            "4/4 [==============================] - 40s 10s/step - loss: 0.4442 - val_loss: 0.0278 - lr: 1.0000e-04\n",
            "Epoch 97/100\n",
            "4/4 [==============================] - 40s 10s/step - loss: 0.4422 - val_loss: 0.0278 - lr: 1.0000e-04\n",
            "Epoch 98/100\n",
            "4/4 [==============================] - 41s 10s/step - loss: 0.4421 - val_loss: 0.0284 - lr: 1.0000e-04\n",
            "Epoch 99/100\n",
            "4/4 [==============================] - 38s 10s/step - loss: 0.4403 - val_loss: 0.0288 - lr: 1.0000e-04\n",
            "Epoch 100/100\n",
            "4/4 [==============================] - 40s 10s/step - loss: 0.4381 - val_loss: 0.0287 - lr: 1.0000e-04\n"
          ]
        }
      ]
    },
    {
      "cell_type": "code",
      "source": [
        "history2_continue= autoencoder2.fit(x_train_noisy, x_train,\n",
        "                          epochs=100,\n",
        "                          batch_size=256,\n",
        "                          shuffle=True,\n",
        "                          validation_data=(x_val_noisy, x_val),\n",
        "                          callbacks=[reduce_lr])"
      ],
      "metadata": {
        "colab": {
          "base_uri": "https://localhost:8080/"
        },
        "id": "lc8m-bAGS3vU",
        "outputId": "66de7005-3cb1-4fbf-f9eb-6d547055161e"
      },
      "execution_count": 22,
      "outputs": [
        {
          "output_type": "stream",
          "name": "stdout",
          "text": [
            "Epoch 1/100\n",
            "4/4 [==============================] - 48s 10s/step - loss: 0.4250 - val_loss: 0.0284 - lr: 1.0000e-04\n",
            "Epoch 2/100\n",
            "4/4 [==============================] - 42s 10s/step - loss: 0.4213 - val_loss: 0.0280 - lr: 1.0000e-04\n",
            "Epoch 3/100\n",
            "4/4 [==============================] - 43s 11s/step - loss: 0.4208 - val_loss: 0.0276 - lr: 1.0000e-04\n",
            "Epoch 4/100\n",
            "4/4 [==============================] - 42s 10s/step - loss: 0.4169 - val_loss: 0.0277 - lr: 1.0000e-04\n",
            "Epoch 5/100\n",
            "4/4 [==============================] - 43s 10s/step - loss: 0.4159 - val_loss: 0.0281 - lr: 1.0000e-04\n",
            "Epoch 6/100\n",
            "4/4 [==============================] - 43s 10s/step - loss: 0.4147 - val_loss: 0.0281 - lr: 1.0000e-04\n",
            "Epoch 7/100\n",
            "4/4 [==============================] - 42s 10s/step - loss: 0.4134 - val_loss: 0.0278 - lr: 1.0000e-04\n",
            "Epoch 8/100\n",
            "4/4 [==============================] - 43s 11s/step - loss: 0.4105 - val_loss: 0.0279 - lr: 1.0000e-04\n",
            "Epoch 9/100\n",
            "4/4 [==============================] - 43s 10s/step - loss: 0.4094 - val_loss: 0.0278 - lr: 1.0000e-04\n",
            "Epoch 10/100\n",
            "4/4 [==============================] - 43s 10s/step - loss: 0.4069 - val_loss: 0.0274 - lr: 1.0000e-04\n",
            "Epoch 11/100\n",
            "4/4 [==============================] - 45s 11s/step - loss: 0.4050 - val_loss: 0.0272 - lr: 1.0000e-04\n",
            "Epoch 12/100\n",
            "4/4 [==============================] - 43s 10s/step - loss: 0.4026 - val_loss: 0.0274 - lr: 1.0000e-04\n",
            "Epoch 13/100\n",
            "4/4 [==============================] - 43s 10s/step - loss: 0.4010 - val_loss: 0.0268 - lr: 1.0000e-04\n",
            "Epoch 14/100\n",
            "4/4 [==============================] - 43s 10s/step - loss: 0.4005 - val_loss: 0.0273 - lr: 1.0000e-04\n",
            "Epoch 15/100\n",
            "4/4 [==============================] - 43s 10s/step - loss: 0.3959 - val_loss: 0.0273 - lr: 1.0000e-04\n",
            "Epoch 16/100\n",
            "4/4 [==============================] - 43s 11s/step - loss: 0.3944 - val_loss: 0.0269 - lr: 1.0000e-04\n",
            "Epoch 17/100\n",
            "4/4 [==============================] - 43s 11s/step - loss: 0.3945 - val_loss: 0.0272 - lr: 1.0000e-04\n",
            "Epoch 18/100\n",
            "4/4 [==============================] - 43s 11s/step - loss: 0.3913 - val_loss: 0.0270 - lr: 1.0000e-04\n",
            "Epoch 19/100\n",
            "4/4 [==============================] - 43s 11s/step - loss: 0.3902 - val_loss: 0.0272 - lr: 1.0000e-04\n",
            "Epoch 20/100\n",
            "4/4 [==============================] - 44s 11s/step - loss: 0.3865 - val_loss: 0.0272 - lr: 1.0000e-04\n",
            "Epoch 21/100\n",
            "4/4 [==============================] - 43s 11s/step - loss: 0.3868 - val_loss: 0.0271 - lr: 1.0000e-04\n",
            "Epoch 22/100\n",
            "4/4 [==============================] - 44s 11s/step - loss: 0.3848 - val_loss: 0.0274 - lr: 1.0000e-04\n",
            "Epoch 23/100\n",
            "4/4 [==============================] - ETA: 0s - loss: 0.3821 \n",
            "Epoch 23: ReduceLROnPlateau reducing learning rate to 1.0000000474974514e-05.\n",
            "4/4 [==============================] - 43s 11s/step - loss: 0.3821 - val_loss: 0.0271 - lr: 1.0000e-04\n",
            "Epoch 24/100\n",
            "4/4 [==============================] - 44s 11s/step - loss: 0.3801 - val_loss: 0.0246 - lr: 1.0000e-05\n",
            "Epoch 25/100\n",
            "4/4 [==============================] - 43s 11s/step - loss: 0.3747 - val_loss: 0.0202 - lr: 1.0000e-05\n",
            "Epoch 26/100\n",
            "4/4 [==============================] - 44s 11s/step - loss: 0.3694 - val_loss: 0.0177 - lr: 1.0000e-05\n",
            "Epoch 27/100\n",
            "4/4 [==============================] - 43s 11s/step - loss: 0.3680 - val_loss: 0.0173 - lr: 1.0000e-05\n",
            "Epoch 28/100\n",
            "4/4 [==============================] - 43s 11s/step - loss: 0.3669 - val_loss: 0.0177 - lr: 1.0000e-05\n",
            "Epoch 29/100\n",
            "4/4 [==============================] - 44s 11s/step - loss: 0.3671 - val_loss: 0.0179 - lr: 1.0000e-05\n",
            "Epoch 30/100\n",
            "4/4 [==============================] - 43s 11s/step - loss: 0.3670 - val_loss: 0.0176 - lr: 1.0000e-05\n",
            "Epoch 31/100\n",
            "4/4 [==============================] - 43s 11s/step - loss: 0.3668 - val_loss: 0.0172 - lr: 1.0000e-05\n",
            "Epoch 32/100\n",
            "4/4 [==============================] - 44s 11s/step - loss: 0.3677 - val_loss: 0.0170 - lr: 1.0000e-05\n",
            "Epoch 33/100\n",
            "4/4 [==============================] - 44s 11s/step - loss: 0.3660 - val_loss: 0.0169 - lr: 1.0000e-05\n",
            "Epoch 34/100\n",
            "4/4 [==============================] - 45s 11s/step - loss: 0.3658 - val_loss: 0.0169 - lr: 1.0000e-05\n",
            "Epoch 35/100\n",
            "4/4 [==============================] - 43s 11s/step - loss: 0.3649 - val_loss: 0.0168 - lr: 1.0000e-05\n",
            "Epoch 36/100\n",
            "4/4 [==============================] - 44s 11s/step - loss: 0.3660 - val_loss: 0.0168 - lr: 1.0000e-05\n",
            "Epoch 37/100\n",
            "4/4 [==============================] - 44s 11s/step - loss: 0.3646 - val_loss: 0.0168 - lr: 1.0000e-05\n",
            "Epoch 38/100\n",
            "4/4 [==============================] - 43s 11s/step - loss: 0.3646 - val_loss: 0.0168 - lr: 1.0000e-05\n",
            "Epoch 39/100\n",
            "4/4 [==============================] - 43s 11s/step - loss: 0.3644 - val_loss: 0.0168 - lr: 1.0000e-05\n",
            "Epoch 40/100\n",
            "4/4 [==============================] - 44s 11s/step - loss: 0.3640 - val_loss: 0.0168 - lr: 1.0000e-05\n",
            "Epoch 41/100\n",
            "4/4 [==============================] - 43s 11s/step - loss: 0.3642 - val_loss: 0.0167 - lr: 1.0000e-05\n",
            "Epoch 42/100\n",
            "4/4 [==============================] - 44s 11s/step - loss: 0.3648 - val_loss: 0.0167 - lr: 1.0000e-05\n",
            "Epoch 43/100\n",
            "4/4 [==============================] - 44s 11s/step - loss: 0.3636 - val_loss: 0.0167 - lr: 1.0000e-05\n",
            "Epoch 44/100\n",
            "4/4 [==============================] - 43s 11s/step - loss: 0.3642 - val_loss: 0.0167 - lr: 1.0000e-05\n",
            "Epoch 45/100\n",
            "4/4 [==============================] - 44s 11s/step - loss: 0.3626 - val_loss: 0.0167 - lr: 1.0000e-05\n",
            "Epoch 46/100\n",
            "4/4 [==============================] - 43s 11s/step - loss: 0.3632 - val_loss: 0.0168 - lr: 1.0000e-05\n",
            "Epoch 47/100\n",
            "4/4 [==============================] - 44s 11s/step - loss: 0.3633 - val_loss: 0.0168 - lr: 1.0000e-05\n",
            "Epoch 48/100\n",
            "4/4 [==============================] - 44s 11s/step - loss: 0.3631 - val_loss: 0.0168 - lr: 1.0000e-05\n",
            "Epoch 49/100\n",
            "4/4 [==============================] - 44s 11s/step - loss: 0.3632 - val_loss: 0.0168 - lr: 1.0000e-05\n",
            "Epoch 50/100\n",
            "4/4 [==============================] - 44s 11s/step - loss: 0.3632 - val_loss: 0.0168 - lr: 1.0000e-05\n",
            "Epoch 51/100\n",
            "4/4 [==============================] - 43s 11s/step - loss: 0.3635 - val_loss: 0.0168 - lr: 1.0000e-05\n",
            "Epoch 52/100\n",
            "4/4 [==============================] - ETA: 0s - loss: 0.3615 \n",
            "Epoch 52: ReduceLROnPlateau reducing learning rate to 1.0000000656873453e-06.\n",
            "4/4 [==============================] - 44s 11s/step - loss: 0.3615 - val_loss: 0.0167 - lr: 1.0000e-05\n",
            "Epoch 53/100\n",
            "4/4 [==============================] - 43s 11s/step - loss: 0.3610 - val_loss: 0.0167 - lr: 1.0000e-06\n",
            "Epoch 54/100\n",
            "4/4 [==============================] - 44s 11s/step - loss: 0.3613 - val_loss: 0.0166 - lr: 1.0000e-06\n",
            "Epoch 55/100\n",
            "4/4 [==============================] - 44s 11s/step - loss: 0.3626 - val_loss: 0.0165 - lr: 1.0000e-06\n",
            "Epoch 56/100\n",
            "4/4 [==============================] - 43s 11s/step - loss: 0.3620 - val_loss: 0.0164 - lr: 1.0000e-06\n",
            "Epoch 57/100\n",
            "4/4 [==============================] - 44s 11s/step - loss: 0.3611 - val_loss: 0.0163 - lr: 1.0000e-06\n",
            "Epoch 58/100\n",
            "4/4 [==============================] - 44s 11s/step - loss: 0.3610 - val_loss: 0.0162 - lr: 1.0000e-06\n",
            "Epoch 59/100\n",
            "4/4 [==============================] - 44s 11s/step - loss: 0.3607 - val_loss: 0.0161 - lr: 1.0000e-06\n",
            "Epoch 60/100\n",
            "4/4 [==============================] - 44s 11s/step - loss: 0.3611 - val_loss: 0.0160 - lr: 1.0000e-06\n",
            "Epoch 61/100\n",
            "4/4 [==============================] - 43s 11s/step - loss: 0.3595 - val_loss: 0.0160 - lr: 1.0000e-06\n",
            "Epoch 62/100\n",
            "4/4 [==============================] - 43s 11s/step - loss: 0.3606 - val_loss: 0.0159 - lr: 1.0000e-06\n",
            "Epoch 63/100\n",
            "4/4 [==============================] - 43s 11s/step - loss: 0.3597 - val_loss: 0.0159 - lr: 1.0000e-06\n",
            "Epoch 64/100\n",
            "4/4 [==============================] - 43s 11s/step - loss: 0.3603 - val_loss: 0.0158 - lr: 1.0000e-06\n",
            "Epoch 65/100\n",
            "4/4 [==============================] - 44s 11s/step - loss: 0.3608 - val_loss: 0.0158 - lr: 1.0000e-06\n",
            "Epoch 66/100\n",
            "4/4 [==============================] - 44s 11s/step - loss: 0.3593 - val_loss: 0.0158 - lr: 1.0000e-06\n",
            "Epoch 67/100\n",
            "4/4 [==============================] - 44s 11s/step - loss: 0.3603 - val_loss: 0.0158 - lr: 1.0000e-06\n",
            "Epoch 68/100\n",
            "4/4 [==============================] - 44s 11s/step - loss: 0.3607 - val_loss: 0.0157 - lr: 1.0000e-06\n",
            "Epoch 69/100\n",
            "4/4 [==============================] - 44s 11s/step - loss: 0.3599 - val_loss: 0.0157 - lr: 1.0000e-06\n",
            "Epoch 70/100\n",
            "4/4 [==============================] - 44s 11s/step - loss: 0.3606 - val_loss: 0.0157 - lr: 1.0000e-06\n",
            "Epoch 71/100\n",
            "4/4 [==============================] - 43s 11s/step - loss: 0.3592 - val_loss: 0.0157 - lr: 1.0000e-06\n",
            "Epoch 72/100\n",
            "4/4 [==============================] - 44s 11s/step - loss: 0.3607 - val_loss: 0.0157 - lr: 1.0000e-06\n",
            "Epoch 73/100\n",
            "4/4 [==============================] - 44s 11s/step - loss: 0.3602 - val_loss: 0.0157 - lr: 1.0000e-06\n",
            "Epoch 74/100\n",
            "4/4 [==============================] - 44s 11s/step - loss: 0.3603 - val_loss: 0.0157 - lr: 1.0000e-06\n",
            "Epoch 75/100\n",
            "4/4 [==============================] - 43s 11s/step - loss: 0.3601 - val_loss: 0.0157 - lr: 1.0000e-06\n",
            "Epoch 76/100\n",
            "4/4 [==============================] - 44s 11s/step - loss: 0.3601 - val_loss: 0.0157 - lr: 1.0000e-06\n",
            "Epoch 77/100\n",
            "4/4 [==============================] - 44s 11s/step - loss: 0.3601 - val_loss: 0.0157 - lr: 1.0000e-06\n",
            "Epoch 78/100\n",
            "4/4 [==============================] - 43s 11s/step - loss: 0.3591 - val_loss: 0.0157 - lr: 1.0000e-06\n",
            "Epoch 79/100\n",
            "4/4 [==============================] - 44s 11s/step - loss: 0.3607 - val_loss: 0.0157 - lr: 1.0000e-06\n",
            "Epoch 80/100\n",
            "4/4 [==============================] - 44s 11s/step - loss: 0.3596 - val_loss: 0.0157 - lr: 1.0000e-06\n",
            "Epoch 81/100\n",
            "4/4 [==============================] - 44s 11s/step - loss: 0.3596 - val_loss: 0.0157 - lr: 1.0000e-06\n",
            "Epoch 82/100\n",
            "4/4 [==============================] - ETA: 0s - loss: 0.3598 \n",
            "Epoch 82: ReduceLROnPlateau reducing learning rate to 1.0000001111620805e-07.\n",
            "4/4 [==============================] - 44s 11s/step - loss: 0.3598 - val_loss: 0.0157 - lr: 1.0000e-06\n",
            "Epoch 83/100\n",
            "4/4 [==============================] - 44s 11s/step - loss: 0.3605 - val_loss: 0.0157 - lr: 1.0000e-07\n",
            "Epoch 84/100\n",
            "4/4 [==============================] - 44s 11s/step - loss: 0.3601 - val_loss: 0.0157 - lr: 1.0000e-07\n",
            "Epoch 85/100\n",
            "4/4 [==============================] - 44s 11s/step - loss: 0.3598 - val_loss: 0.0157 - lr: 1.0000e-07\n",
            "Epoch 86/100\n",
            "4/4 [==============================] - 44s 11s/step - loss: 0.3607 - val_loss: 0.0156 - lr: 1.0000e-07\n",
            "Epoch 87/100\n",
            "4/4 [==============================] - 44s 11s/step - loss: 0.3593 - val_loss: 0.0156 - lr: 1.0000e-07\n",
            "Epoch 88/100\n",
            "4/4 [==============================] - 44s 11s/step - loss: 0.3601 - val_loss: 0.0156 - lr: 1.0000e-07\n",
            "Epoch 89/100\n",
            "4/4 [==============================] - 44s 11s/step - loss: 0.3589 - val_loss: 0.0156 - lr: 1.0000e-07\n",
            "Epoch 90/100\n",
            "4/4 [==============================] - 46s 11s/step - loss: 0.3600 - val_loss: 0.0156 - lr: 1.0000e-07\n",
            "Epoch 91/100\n",
            "4/4 [==============================] - 44s 11s/step - loss: 0.3597 - val_loss: 0.0156 - lr: 1.0000e-07\n",
            "Epoch 92/100\n",
            "4/4 [==============================] - ETA: 0s - loss: 0.3594 \n",
            "Epoch 92: ReduceLROnPlateau reducing learning rate to 1.000000082740371e-08.\n",
            "4/4 [==============================] - 44s 11s/step - loss: 0.3594 - val_loss: 0.0156 - lr: 1.0000e-07\n",
            "Epoch 93/100\n",
            "4/4 [==============================] - 46s 11s/step - loss: 0.3590 - val_loss: 0.0156 - lr: 1.0000e-08\n",
            "Epoch 94/100\n",
            "4/4 [==============================] - 44s 11s/step - loss: 0.3591 - val_loss: 0.0156 - lr: 1.0000e-08\n",
            "Epoch 95/100\n",
            "4/4 [==============================] - 44s 11s/step - loss: 0.3605 - val_loss: 0.0156 - lr: 1.0000e-08\n",
            "Epoch 96/100\n",
            "4/4 [==============================] - 44s 11s/step - loss: 0.3598 - val_loss: 0.0156 - lr: 1.0000e-08\n",
            "Epoch 97/100\n",
            "4/4 [==============================] - 44s 11s/step - loss: 0.3616 - val_loss: 0.0156 - lr: 1.0000e-08\n",
            "Epoch 98/100\n",
            "4/4 [==============================] - 46s 11s/step - loss: 0.3613 - val_loss: 0.0156 - lr: 1.0000e-08\n",
            "Epoch 99/100\n",
            "4/4 [==============================] - 44s 11s/step - loss: 0.3603 - val_loss: 0.0156 - lr: 1.0000e-08\n",
            "Epoch 100/100\n",
            "4/4 [==============================] - 43s 10s/step - loss: 0.3594 - val_loss: 0.0156 - lr: 1.0000e-08\n"
          ]
        }
      ]
    },
    {
      "cell_type": "code",
      "source": [
        "import matplotlib.pyplot as plt\n",
        "\n",
        "plt.plot(history2.history['loss'][1:], label='Training Loss')\n",
        "#plt.plot(history2.history['val_loss'], label='Validation Loss')\n",
        "plt.legend()\n",
        "plt.show()\n"
      ],
      "metadata": {
        "colab": {
          "base_uri": "https://localhost:8080/",
          "height": 430
        },
        "id": "RgJtA6h8xZPh",
        "outputId": "e4f2c362-c121-45e9-b914-f9dda44cbe0f"
      },
      "execution_count": 10,
      "outputs": [
        {
          "output_type": "display_data",
          "data": {
            "text/plain": [
              "<Figure size 640x480 with 1 Axes>"
            ],
            "image/png": "[encoded data removed]"
          },
          "metadata": {}
        }
      ]
    },
    {
      "cell_type": "markdown",
      "source": [
        "do inference to get the data with reduced dimension"
      ],
      "metadata": {
        "id": "CWOUzo_hrZCq"
      }
    },
    {
      "cell_type": "code",
      "source": [
        "encoder = Model(input_data, encoded2)\n",
        "compressed_data = encoder.predict(data_noisy)"
      ],
      "metadata": {
        "colab": {
          "base_uri": "https://localhost:8080/"
        },
        "id": "nCTBOLO1rT3u",
        "outputId": "1c10e3fd-40d3-4321-9126-be87dcafcd71"
      },
      "execution_count": 11,
      "outputs": [
        {
          "output_type": "stream",
          "name": "stdout",
          "text": [
            "38/38 [==============================] - 11s 284ms/step\n"
          ]
        }
      ]
    },
    {
      "cell_type": "markdown",
      "source": [
        "save the obtained data"
      ],
      "metadata": {
        "id": "BT0_5WMGrnZQ"
      }
    },
    {
      "cell_type": "code",
      "source": [
        "main_folder_path = '/content/drive/MyDrive/fSAE/'\n",
        "compressed_folders = [\"comp1\", \"comp2\", \"comp3\", \"comp4\"]\n",
        "samples_per_folder = 300\n",
        "\n",
        "for idx, comp_folder in enumerate(compressed_folders):\n",
        "    # Create the compressed folder if it doesn't exist\n",
        "    comp_folder_path = os.path.join(main_folder_path, comp_folder)\n",
        "    if not os.path.exists(comp_folder_path):\n",
        "        os.makedirs(comp_folder_path)\n",
        "\n",
        "    start_idx = idx * samples_per_folder\n",
        "    end_idx = start_idx + samples_per_folder\n",
        "    print(idx)\n",
        "    for j, encoded_vector in enumerate(compressed_data[start_idx:end_idx]):\n",
        "        file_name = f\"{comp_folder}_{j+1}.mat\"\n",
        "        scipy.io.savemat(os.path.join(comp_folder_path, file_name), {'Y': encoded_vector})"
      ],
      "metadata": {
        "colab": {
          "base_uri": "https://localhost:8080/"
        },
        "id": "4wyOm-w_rpmy",
        "outputId": "c0a633ac-9ae3-4253-e8e6-0d04fc1aee87"
      },
      "execution_count": 12,
      "outputs": [
        {
          "output_type": "stream",
          "name": "stdout",
          "text": [
            "0\n",
            "1\n",
            "2\n",
            "3\n"
          ]
        }
      ]
    }
  ]
}